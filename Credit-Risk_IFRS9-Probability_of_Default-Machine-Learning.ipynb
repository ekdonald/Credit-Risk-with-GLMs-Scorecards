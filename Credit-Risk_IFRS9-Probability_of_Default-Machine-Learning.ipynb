{
 "cells": [
  {
   "cell_type": "markdown",
   "id": "89f270ff",
   "metadata": {},
   "source": [
    "## <center> Credit Risk Modelling - IFRS9 and CECL: Developing Scorecards with Machine Learning\n",
    "#### <br> <center> @by Donald Kpatcha"
   ]
  },
  {
   "cell_type": "code",
   "execution_count": 221,
   "id": "dd65fe40",
   "metadata": {},
   "outputs": [],
   "source": [
    "## Uncomment to install it\n",
    "#! pip uninstall scorecardpy\n",
    "#or for the latest version via\n",
    "#! pip install git+git://github.com/shichenxie/scorecardpy.git\n"
   ]
  },
  {
   "cell_type": "code",
   "execution_count": 219,
   "id": "e50c3722",
   "metadata": {},
   "outputs": [],
   "source": [
    "# Import libraries\n",
    "import numpy as np\n",
    "import pandas as pd\n",
    "import seaborn as sns\n",
    "import matplotlib.pyplot as plt\n",
    "from sklearn.linear_model import LogisticRegression\n",
    "from sklearn.feature_selection import RFE\n",
    "from sklearn.model_selection import train_test_split\n",
    "from sklearn.metrics import classification_report\n",
    "import statsmodels.api as sm\n",
    "import scorecardpy as sc\n",
    "from sklearn.preprocessing import LabelEncoder, StandardScaler\n",
    "from sklearn.linear_model import LogisticRegression\n",
    "from statsmodels.stats.outliers_influence import variance_inflation_factor\n",
    "from sklearn.metrics import roc_curve, auc, roc_auc_score,  accuracy_score, mean_squared_error\n",
    "from sklearn.model_selection import KFold\n",
    "from sklearn.ensemble import RandomForestClassifier\n",
    "from sklearn.tree import DecisionTreeClassifier, DecisionTreeRegressor\n",
    "from sklearn.ensemble import GradientBoostingRegressor\n",
    "from sklearn.metrics import mean_squared_error\n",
    "from sklearn.calibration import calibration_curve\n",
    "from sklearn.inspection import plot_partial_dependence\n",
    "from IPython.core.display import HTML\n",
    "# center plots \n",
    "HTML(\"\"\"\n",
    "<style>\n",
    ".output_png {\n",
    "    display: table-cell;\n",
    "    text-align: center;\n",
    "    vertical-align: middle;\n",
    "}\n",
    "</style>\n",
    "\"\"\")\n",
    "from datetime import datetime\n"
   ]
  },
  {
   "cell_type": "markdown",
   "id": "713aba8b",
   "metadata": {},
   "source": [
    "### $ \\bf \\text{Upload and Prepare Data}$"
   ]
  },
  {
   "cell_type": "code",
   "execution_count": 207,
   "id": "fc3b9522",
   "metadata": {
    "scrolled": false
   },
   "outputs": [
    {
     "name": "stdout",
     "output_type": "stream",
     "text": [
      "<class 'pandas.core.frame.DataFrame'>\n",
      "RangeIndex: 25906 entries, 0 to 25905\n",
      "Data columns (total 46 columns):\n",
      " #   Column                         Non-Null Count  Dtype  \n",
      "---  ------                         --------------  -----  \n",
      " 0   id                             25906 non-null  int64  \n",
      " 1   vintage_year                   25906 non-null  int64  \n",
      " 2   monthly_installment            25906 non-null  float64\n",
      " 3   loan_balance                   25906 non-null  float64\n",
      " 4   bureau_score                   25473 non-null  float64\n",
      " 5   num_bankrupt_iva               25473 non-null  float64\n",
      " 6   time_since_bankrupt            25473 non-null  float64\n",
      " 7   num_ccj                        25473 non-null  float64\n",
      " 8   time_since_ccj                 25473 non-null  float64\n",
      " 9   ccj_amount                     25473 non-null  float64\n",
      " 10  num_bankrupt                   25473 non-null  float64\n",
      " 11  num_iva                        25473 non-null  float64\n",
      " 12  min_months_since_bankrupt      25473 non-null  float64\n",
      " 13  pl_flag                        25906 non-null  int64  \n",
      " 14  region                         25905 non-null  object \n",
      " 15  ltv                            25906 non-null  float64\n",
      " 16  arrears_months                 25906 non-null  float64\n",
      " 17  origination_date               25906 non-null  object \n",
      " 18  maturity_date                  25906 non-null  object \n",
      " 19  repayment_type                 25906 non-null  object \n",
      " 20  arrears_status                 25906 non-null  int64  \n",
      " 21  arrears_segment                25906 non-null  int64  \n",
      " 22  mob                            25906 non-null  int64  \n",
      " 23  remaining_mat                  25906 non-null  int64  \n",
      " 24  loan_term                      25906 non-null  int64  \n",
      " 25  live_status                    25906 non-null  int64  \n",
      " 26  repaid_status                  25906 non-null  int64  \n",
      " 27  month                          25906 non-null  int64  \n",
      " 28  arrears_event                  25906 non-null  int64  \n",
      " 29  bankrupt_event                 25906 non-null  int64  \n",
      " 30  term_expiry_event              25906 non-null  int64  \n",
      " 31  worst_arrears_status           25906 non-null  int64  \n",
      " 32  max_arrears_12m                25906 non-null  float64\n",
      " 33  recent_arrears_date            814 non-null    object \n",
      " 34  months_since_2mia              814 non-null    float64\n",
      " 35  avg_mia_6m                     25902 non-null  float64\n",
      " 36  max_arrears_bal_6m             25902 non-null  float64\n",
      " 37  max_mia_6m                     25902 non-null  float64\n",
      " 38  avg_bal_6m                     25902 non-null  float64\n",
      " 39  avg_bureau_score_6m            25515 non-null  float64\n",
      " 40  cc_util                        25906 non-null  float64\n",
      " 41  annual_income                  25906 non-null  int64  \n",
      " 42  emp_length                     25906 non-null  int64  \n",
      " 43  months_since_recent_cc_delinq  25906 non-null  object \n",
      " 44  default_event                  25906 non-null  object \n",
      " 45  default_indicator              25906 non-null  int64  \n",
      "dtypes: float64(21), int64(18), object(7)\n",
      "memory usage: 9.1+ MB\n",
      "None\n"
     ]
    },
    {
     "data": {
      "text/html": [
       "<div>\n",
       "<style scoped>\n",
       "    .dataframe tbody tr th:only-of-type {\n",
       "        vertical-align: middle;\n",
       "    }\n",
       "\n",
       "    .dataframe tbody tr th {\n",
       "        vertical-align: top;\n",
       "    }\n",
       "\n",
       "    .dataframe thead th {\n",
       "        text-align: right;\n",
       "    }\n",
       "</style>\n",
       "<table border=\"1\" class=\"dataframe\">\n",
       "  <thead>\n",
       "    <tr style=\"text-align: right;\">\n",
       "      <th></th>\n",
       "      <th>id</th>\n",
       "      <th>vintage_year</th>\n",
       "      <th>monthly_installment</th>\n",
       "      <th>loan_balance</th>\n",
       "      <th>bureau_score</th>\n",
       "      <th>num_bankrupt_iva</th>\n",
       "      <th>time_since_bankrupt</th>\n",
       "      <th>num_ccj</th>\n",
       "      <th>time_since_ccj</th>\n",
       "      <th>ccj_amount</th>\n",
       "      <th>...</th>\n",
       "      <th>max_arrears_bal_6m</th>\n",
       "      <th>max_mia_6m</th>\n",
       "      <th>avg_bal_6m</th>\n",
       "      <th>avg_bureau_score_6m</th>\n",
       "      <th>cc_util</th>\n",
       "      <th>annual_income</th>\n",
       "      <th>emp_length</th>\n",
       "      <th>months_since_recent_cc_delinq</th>\n",
       "      <th>default_event</th>\n",
       "      <th>default_indicator</th>\n",
       "    </tr>\n",
       "  </thead>\n",
       "  <tbody>\n",
       "    <tr>\n",
       "      <th>0</th>\n",
       "      <td>6670001</td>\n",
       "      <td>2005</td>\n",
       "      <td>746.70</td>\n",
       "      <td>131304.44</td>\n",
       "      <td>541.0</td>\n",
       "      <td>0.0</td>\n",
       "      <td>0.0</td>\n",
       "      <td>0.0</td>\n",
       "      <td>0.0</td>\n",
       "      <td>0.0</td>\n",
       "      <td>...</td>\n",
       "      <td>-42.0</td>\n",
       "      <td>0.0</td>\n",
       "      <td>132080.0</td>\n",
       "      <td>542.0</td>\n",
       "      <td>0.4578</td>\n",
       "      <td>76749</td>\n",
       "      <td>3</td>\n",
       "      <td>11</td>\n",
       "      <td>No</td>\n",
       "      <td>0</td>\n",
       "    </tr>\n",
       "    <tr>\n",
       "      <th>1</th>\n",
       "      <td>9131199</td>\n",
       "      <td>2006</td>\n",
       "      <td>887.40</td>\n",
       "      <td>115486.51</td>\n",
       "      <td>441.0</td>\n",
       "      <td>0.0</td>\n",
       "      <td>0.0</td>\n",
       "      <td>0.0</td>\n",
       "      <td>0.0</td>\n",
       "      <td>0.0</td>\n",
       "      <td>...</td>\n",
       "      <td>0.0</td>\n",
       "      <td>0.0</td>\n",
       "      <td>116972.0</td>\n",
       "      <td>494.0</td>\n",
       "      <td>0.6299</td>\n",
       "      <td>78451</td>\n",
       "      <td>10</td>\n",
       "      <td>7</td>\n",
       "      <td>No</td>\n",
       "      <td>0</td>\n",
       "    </tr>\n",
       "    <tr>\n",
       "      <th>2</th>\n",
       "      <td>4963167</td>\n",
       "      <td>2004</td>\n",
       "      <td>1008.50</td>\n",
       "      <td>128381.73</td>\n",
       "      <td>282.0</td>\n",
       "      <td>0.0</td>\n",
       "      <td>0.0</td>\n",
       "      <td>1.0</td>\n",
       "      <td>36.0</td>\n",
       "      <td>459.0</td>\n",
       "      <td>...</td>\n",
       "      <td>1198.0</td>\n",
       "      <td>2.0</td>\n",
       "      <td>128500.0</td>\n",
       "      <td>290.0</td>\n",
       "      <td>0.6331</td>\n",
       "      <td>31038</td>\n",
       "      <td>3</td>\n",
       "      <td>6</td>\n",
       "      <td>Yes</td>\n",
       "      <td>1</td>\n",
       "    </tr>\n",
       "    <tr>\n",
       "      <th>3</th>\n",
       "      <td>3918582</td>\n",
       "      <td>2005</td>\n",
       "      <td>458.23</td>\n",
       "      <td>35482.96</td>\n",
       "      <td>461.0</td>\n",
       "      <td>0.0</td>\n",
       "      <td>0.0</td>\n",
       "      <td>0.0</td>\n",
       "      <td>0.0</td>\n",
       "      <td>0.0</td>\n",
       "      <td>...</td>\n",
       "      <td>-114.0</td>\n",
       "      <td>0.0</td>\n",
       "      <td>36610.0</td>\n",
       "      <td>460.0</td>\n",
       "      <td>0.4990</td>\n",
       "      <td>56663</td>\n",
       "      <td>8</td>\n",
       "      <td>6</td>\n",
       "      <td>No</td>\n",
       "      <td>0</td>\n",
       "    </tr>\n",
       "    <tr>\n",
       "      <th>4</th>\n",
       "      <td>5949777</td>\n",
       "      <td>2006</td>\n",
       "      <td>431.20</td>\n",
       "      <td>77086.31</td>\n",
       "      <td>466.0</td>\n",
       "      <td>0.0</td>\n",
       "      <td>0.0</td>\n",
       "      <td>0.0</td>\n",
       "      <td>0.0</td>\n",
       "      <td>0.0</td>\n",
       "      <td>...</td>\n",
       "      <td>0.0</td>\n",
       "      <td>0.0</td>\n",
       "      <td>77518.0</td>\n",
       "      <td>468.0</td>\n",
       "      <td>0.9568</td>\n",
       "      <td>77014</td>\n",
       "      <td>10</td>\n",
       "      <td>3</td>\n",
       "      <td>No</td>\n",
       "      <td>0</td>\n",
       "    </tr>\n",
       "  </tbody>\n",
       "</table>\n",
       "<p>5 rows × 46 columns</p>\n",
       "</div>"
      ],
      "text/plain": [
       "        id  vintage_year  monthly_installment  loan_balance  bureau_score  \\\n",
       "0  6670001          2005               746.70     131304.44         541.0   \n",
       "1  9131199          2006               887.40     115486.51         441.0   \n",
       "2  4963167          2004              1008.50     128381.73         282.0   \n",
       "3  3918582          2005               458.23      35482.96         461.0   \n",
       "4  5949777          2006               431.20      77086.31         466.0   \n",
       "\n",
       "   num_bankrupt_iva  time_since_bankrupt  num_ccj  time_since_ccj  ccj_amount  \\\n",
       "0               0.0                  0.0      0.0             0.0         0.0   \n",
       "1               0.0                  0.0      0.0             0.0         0.0   \n",
       "2               0.0                  0.0      1.0            36.0       459.0   \n",
       "3               0.0                  0.0      0.0             0.0         0.0   \n",
       "4               0.0                  0.0      0.0             0.0         0.0   \n",
       "\n",
       "   ...  max_arrears_bal_6m  max_mia_6m  avg_bal_6m  avg_bureau_score_6m  \\\n",
       "0  ...               -42.0         0.0    132080.0                542.0   \n",
       "1  ...                 0.0         0.0    116972.0                494.0   \n",
       "2  ...              1198.0         2.0    128500.0                290.0   \n",
       "3  ...              -114.0         0.0     36610.0                460.0   \n",
       "4  ...                 0.0         0.0     77518.0                468.0   \n",
       "\n",
       "  cc_util  annual_income  emp_length months_since_recent_cc_delinq  \\\n",
       "0  0.4578          76749           3                            11   \n",
       "1  0.6299          78451          10                             7   \n",
       "2  0.6331          31038           3                             6   \n",
       "3  0.4990          56663           8                             6   \n",
       "4  0.9568          77014          10                             3   \n",
       "\n",
       "  default_event default_indicator  \n",
       "0            No                 0  \n",
       "1            No                 0  \n",
       "2           Yes                 1  \n",
       "3            No                 0  \n",
       "4            No                 0  \n",
       "\n",
       "[5 rows x 46 columns]"
      ]
     },
     "execution_count": 207,
     "metadata": {},
     "output_type": "execute_result"
    }
   ],
   "source": [
    "# Import data (data will be provided with this code)\n",
    "df = pd.read_csv('data/Chap2/chap2oneypdcsv.csv', header=0, sep='\"\",\"\"|,\"|,|\",|\"\"\"|,\"\"|\"\",|\",\"',\\\n",
    "                  engine='python').replace('\"', '', regex=True).iloc[:, 1:45]\n",
    "\n",
    "# Default flag definition\n",
    "df.loc[:, 'default_event'] = df.apply(lambda row: 'Yes' if row['arrears_event'] == 1 \\\n",
    "                                          or row['term_expiry_event'] == 1 \\\n",
    "                                          or row['bankrupt_event'] == 1 else 'No', axis=1)\n",
    "\n",
    "# Default indicator variable for more convenient use: 0-default, 1-non-default\n",
    "df.loc[:, 'default_indicator'] = df['default_event'].apply(lambda x: 0 if x == 'No' else 1)\n",
    "\n",
    "# Displaying the structure of the DataFrame\n",
    "print(df.info())\n",
    "\n",
    "# Look at data\n",
    "df.head(5)\n"
   ]
  },
  {
   "cell_type": "markdown",
   "id": "8a1bc7ca",
   "metadata": {},
   "source": [
    "##### Note:\n",
    "\n",
    "'recent_arrears_date', and 'months_since_2mia' columns each contain about 97% of NaN/missing enteries,\n",
    "Thus the two colomns will be dropped. Also, given that we have suficient amount of data, we will drop \n",
    "all rows containing NaNs."
   ]
  },
  {
   "cell_type": "code",
   "execution_count": 208,
   "id": "83fe3471",
   "metadata": {},
   "outputs": [],
   "source": [
    "\n",
    "# drop recent_arrears_date', and 'months_since_2mia' columns columns and store in new dataframe\n",
    "datadf = df.drop(['recent_arrears_date', 'months_since_2mia'], axis=1)\n",
    "\n",
    "# Filter out missing values by removing rows with missing values \n",
    "datadf.dropna(inplace=True)\n",
    "\n",
    "# Date format for relevant date type columns: \"origination_date\", \"maturity_date\"\n",
    "datadf[[\"origination_date\", \"maturity_date\"]] = \\\n",
    "                       datadf[[\"origination_date\", \"maturity_date\"]].apply(pd.to_datetime)\n",
    "\n",
    "# change dtype for columns\n",
    "datadf[[\"months_since_recent_cc_delinq\"]] = datadf[[\"months_since_recent_cc_delinq\"]].astype('int')\n",
    "\n",
    "# Remove outliers\n",
    "oneypd_tree = datadf.loc[(datadf[\"origination_date\"] <= '2007-08-17')]\n",
    "\n",
    "# Select a subset of variables\n",
    "oneypd_tree_sel = oneypd_tree[[\"default_indicator\", \"default_event\", \"bureau_score\",\n",
    "                                    \"time_since_bankrupt\", \"num_ccj\", \"time_since_ccj\",\n",
    "                                    \"ccj_amount\", \"ltv\", \"mob\", \"max_arrears_12m\",\n",
    "                                    \"max_arrears_bal_6m\", \"avg_bal_6m\", \"annual_income\",\n",
    "                                    \"loan_balance\", \"loan_term\", \"cc_util\", \"emp_length\",\n",
    "                                    \"months_since_recent_cc_delinq\"]]\n"
   ]
  },
  {
   "cell_type": "markdown",
   "id": "488b1370",
   "metadata": {},
   "source": [
    "### $ \\bf \\text{Split into train and test, and perform feature importance analysis}$\n",
    "\n",
    "$ \\bf a)  \\quad  \\text{Random Forest Classifier}$"
   ]
  },
  {
   "cell_type": "code",
   "execution_count": 209,
   "id": "3d5e7d7d",
   "metadata": {},
   "outputs": [
    {
     "name": "stdout",
     "output_type": "stream",
     "text": [
      "Number of trees: 100\n",
      "Nunber of variables tried at each split: 4\n",
      "Out-of-bag estimate of score rate: 0.9611945334908047\n",
      "Out-of-bag estimate of error rate: 0.03880546650919525\n"
     ]
    },
    {
     "data": {
      "image/png": "[encoded data removed]",
      "text/plain": [
       "<Figure size 720x432 with 1 Axes>"
      ]
     },
     "metadata": {
      "needs_background": "light"
     },
     "output_type": "display_data"
    }
   ],
   "source": [
    "\n",
    "# Create stratified samples: 70% train and 30% test\n",
    "train, test = train_test_split(oneypd_tree_sel, test_size=0.3, stratify=oneypd_tree_sel['default_event'],\\\n",
    "                               random_state=123)\n",
    "\n",
    "# Perform random forest analysis\n",
    "# Fit random forest: creating and fitting a random forest classifier\n",
    "# The best would be to search for the best paramaters maximizing the acuracy (and perform a cross validation)\n",
    "# But for now, I will not perform the random grid to search for best hyperparameters just fix n_estimators=100,\n",
    "# and max_features=4\n",
    "\n",
    "rf_oneypd = RandomForestClassifier(n_estimators=100, max_features=4, oob_score=True, random_state=123)\n",
    "rf_oneypd.fit(train.drop(columns=['default_indicator', 'default_event']), train['default_indicator'])\n",
    "\n",
    "# Displaying random forest details\n",
    "print(\"Number of trees:\", len(rf_oneypd.estimators_))\n",
    "print(\"Nunber of variables tried at each split:\", rf_oneypd.max_features)\n",
    "print(\"Out-of-bag estimate of score rate:\", rf_oneypd.oob_score_)\n",
    "print(\"Out-of-bag estimate of error rate:\", 1-rf_oneypd.oob_score_)\n",
    "\n",
    "# Variable importance analysis: plotting variable importance\n",
    "importances = rf_oneypd.feature_importances_\n",
    "indices = np.argsort(importances)[::-1]\n",
    "\n",
    "plt.figure(figsize=(10, 6))\n",
    "plt.title(\"Variable Importance\")\n",
    "plt.bar(range(train.drop(columns=['default_indicator', 'default_event']).shape[1]), importances[indices],\n",
    "        align=\"center\")\n",
    "plt.xticks(range(train.drop(columns=['default_indicator', 'default_event']).shape[1]),\\\n",
    "           train.drop(columns=['default_indicator', 'default_event']).columns[indices], rotation=90)\n",
    "plt.tight_layout()\n",
    "plt.show()\n"
   ]
  },
  {
   "cell_type": "markdown",
   "id": "fad98c0e",
   "metadata": {},
   "source": [
    "#### Note\n",
    "\n",
    "This score suggests that:\n",
    "\n",
    "- High Accuracy: The model exhibits high accuracy, correctly classifying approximately 96.12% of \n",
    "the instances it encounters. This suggests that the model is generally effective in making predictions \n",
    "on unseen data.\n",
    "\n",
    "- Low Error Rate: With an out-of-bag error rate of around 3.88%, the model makes errors on only a \n",
    "small fraction of the instances it encounters during training. This indicates that the model's performance\n",
    "is quite reliable, with a relatively low likelihood of misclassification.\n",
    "\n",
    "Overall Performance: The combination of high accuracy and low error rate suggests that the model\n",
    "is well-fitted to the training data and likely generalizes well to unseen data. However, it's important \n",
    "to further evaluate the model's performance on a separate validation or test dataset to confirm its \n",
    "effectiveness and generalization capabilities.\n",
    "\n",
    "In summary, based on these out-of-bag estimates, the model appears to be robust and reliable for making \n",
    "predictions, demonstrating strong performance in terms of both accuracy.\n"
   ]
  },
  {
   "cell_type": "markdown",
   "id": "3977806e",
   "metadata": {},
   "source": [
    "$ \\bf b)  \\quad  \\text{Gradient Boosting Regressor}$"
   ]
  },
  {
   "cell_type": "code",
   "execution_count": 220,
   "id": "25949d53",
   "metadata": {
    "scrolled": false
   },
   "outputs": [
    {
     "name": "stdout",
     "output_type": "stream",
     "text": [
      "Boosting Analysis Summary:\n",
      "cc_util 0.3554589690881484\n",
      "max_arrears_12m 0.22718642266222736\n",
      "annual_income 0.14502113016266743\n",
      "loan_term 0.09978923764622857\n",
      "mob 0.047280094253054995\n",
      "bureau_score 0.03539365064646129\n",
      "max_arrears_bal_6m 0.023694797585803975\n",
      "loan_balance 0.01659932576390259\n",
      "avg_bal_6m 0.01041565112516538\n",
      "ltv 0.009210520922722204\n",
      "months_since_recent_cc_delinq 0.007355918545040642\n",
      "emp_length 0.0061092082686044396\n",
      "ccj_amount 0.00588029876934121\n",
      "time_since_ccj 0.005687621420830098\n",
      "time_since_bankrupt 0.0031118267642722946\n",
      "num_ccj 0.001805326375529106\n"
     ]
    },
    {
     "data": {
      "image/png": "[encoded data removed]",
      "text/plain": [
       "<Figure size 1296x432 with 1 Axes>"
      ]
     },
     "metadata": {
      "needs_background": "light"
     },
     "output_type": "display_data"
    }
   ],
   "source": [
    "\n",
    "# Here we perform boosting analysis using GradientBoostingRegressor\n",
    "# I will not perform the random grid to search for best hyperparameters just fix n_estimators=100,\n",
    "# and  max_depth=4\n",
    "boost_oneypd = GradientBoostingRegressor(n_estimators=100, max_depth=4, random_state=123)\n",
    "boost_oneypd.fit(train.drop(columns=['default_event', 'default_indicator']), train['default_indicator'])\n",
    "\n",
    "# Display summary of the boosting analysis\n",
    "print(\"Boosting Analysis Summary:\")\n",
    "feature_importance = boost_oneypd.feature_importances_\n",
    "sorted_indices = np.argsort(feature_importance)[::-1]\n",
    "\n",
    "# Print variable importance\n",
    "for idx in sorted_indices:\n",
    "    print(train.drop(columns=['default_event', 'default_indicator']).columns[idx], feature_importance[idx])\n",
    "\n",
    "# Plot variable importance for the fmost relevant variables\n",
    "plt.figure(figsize=(18, 6))\n",
    "plt.subplot(1, 2, 1)\n",
    "plt.bar(train.drop(columns=['default_event', 'default_indicator']).columns[sorted_indices][:4],\n",
    "        feature_importance[sorted_indices][:4])\n",
    "plt.xlabel('Variables')\n",
    "plt.ylabel('Relative Importance')\n",
    "plt.title('Variable Importance')\n",
    "plt.show()\n"
   ]
  },
  {
   "cell_type": "markdown",
   "id": "0e9d53ed",
   "metadata": {},
   "source": [
    "$ \\bf \\text{Partial dependence}$"
   ]
  },
  {
   "cell_type": "code",
   "execution_count": 211,
   "id": "95f3910b",
   "metadata": {},
   "outputs": [
    {
     "data": {
      "image/png": "[encoded data removed]",
      "text/plain": [
       "<Figure size 288x504 with 2 Axes>"
      ]
     },
     "metadata": {
      "needs_background": "light"
     },
     "output_type": "display_data"
    }
   ],
   "source": [
    "# Uncomment to plot partial dependence plot for the nvar most relevant variables\n",
    "#nvar = 4\n",
    "#fig, ax = plt.subplots(1, nvar, figsize=(10, 6))\n",
    "#for idx in range(nvar):\n",
    "#    plot_partial_dependence(boost_oneypd, X=train.drop(columns=['default_event', 'default_indicator']),\n",
    "#                            features=[sorted_indices[idx]], ax=ax[idx])\n",
    "\n",
    "# Plot partial dependence plot for the top most relevant variable\n",
    "fig, ax = plt.subplots(figsize=(4, 7))\n",
    "plot_partial_dependence(boost_oneypd, X=train.drop(columns=['default_event', 'default_indicator']),\n",
    "                        features=[sorted_indices[0]], ax=ax)\n",
    "plt.ylim(-0.06, 0.14)\n",
    "\n",
    "plt.tight_layout()\n",
    "plt.show()\n"
   ]
  },
  {
   "cell_type": "code",
   "execution_count": 212,
   "id": "8f193ffb",
   "metadata": {
    "scrolled": true
   },
   "outputs": [
    {
     "name": "stdout",
     "output_type": "stream",
     "text": [
      "Mean Squared Error without Shrinkage: 0.03000333288142499\n",
      "Mean Squared Error with Shrinkage (learning rate=0.2): 0.03067419142896672\n"
     ]
    }
   ],
   "source": [
    "# Predict on the test data using the trained boosting model\n",
    "yhat_boost_oneypd = boost_oneypd.predict(test.drop(columns=['default_event', 'default_indicator']))\n",
    "\n",
    "# Compute mean squared error on the test data\n",
    "mse_boost_oneypd = mean_squared_error(test['default_indicator'], yhat_boost_oneypd)\n",
    "print(\"Mean Squared Error without Shrinkage:\", mse_boost_oneypd)\n",
    "\n",
    "# Inclusion of shrinkage\n",
    "# Initialize and fit a gradient boosting model with shrinkage\n",
    "# The best would be to search for the best paramaters maximizing the acuracy (and perform a cross validation)\n",
    "# But for now, I will not perform the random grid to search for best hyperparameters just fix n_estimators=100,\n",
    "# learning_rate=0.2, and max_depth=4\n",
    "\n",
    "boost_oneypd_df = GradientBoostingRegressor(n_estimators=100, max_depth=4, learning_rate=0.2, random_state=1)\n",
    "boost_oneypd_df.fit(train.drop(columns=['default_event', 'default_indicator']), train['default_indicator'])\n",
    "\n",
    "# Predict on the test data using the boosted model with shrinkage\n",
    "yhat_oneypd_df = boost_oneypd_df.predict(test.drop(columns=['default_event', 'default_indicator']))\n",
    "\n",
    "# Compute mean squared error on the test data with shrinkage\n",
    "mse_boost_oneypd_df = mean_squared_error(test['default_indicator'], yhat_oneypd_df)\n",
    "print(\"Mean Squared Error with Shrinkage (learning rate=0.2):\", mse_boost_oneypd_df)\n"
   ]
  },
  {
   "cell_type": "markdown",
   "id": "5d74aae9",
   "metadata": {},
   "source": [
    "#### Note:\n",
    "\n",
    "These metrics from  Gradient Boosting Regressor regularization suggest that:\n",
    "\n",
    "- Mean Squared Error without Shrinkage: The MSE without shrinkage is 0.03000333288142499. This represents the error incurred by the model when each new tree in the ensemble is added at full strength, without applying any regularization through shrinkage.\n",
    "\n",
    "- Mean Squared Error with Shrinkage (Learning Rate=0.2): The MSE with shrinkage (learning rate=0.2) is 0.03067419142896672. This indicates the error incurred by the model when a learning rate of 0.2 is applied, meaning that each new tree's contribution to the ensemble is reduced by a factor of 0.2 before being added to the model.\n",
    "\n",
    "From these values, we can observe that the MSE with shrinkage is slightly higher than the MSE without shrinkage. However, it's essential to note that shrinkage is a regularization technique aimed at improving the model's generalization performance by preventing overfitting. Even though the MSE with shrinkage might be slightly higher, the model's generalization capabilities could potentially be better due to the regularization effect of shrinkage. \n"
   ]
  },
  {
   "cell_type": "code",
   "execution_count": 213,
   "id": "b9828a6b",
   "metadata": {},
   "outputs": [
    {
     "name": "stdout",
     "output_type": "stream",
     "text": [
      "Logistic Regression Model Summary:\n",
      "Intercept: -5.3319787537613035\n",
      "Coefficient for pred: 12.356415964532776\n"
     ]
    }
   ],
   "source": [
    "\n",
    "# 1. Create the data set\n",
    "# Predict probabilities using the random forest model\n",
    "pred_orig = rf_oneypd.predict_proba(oneypd_tree_sel.drop(columns=['default_event', 'default_indicator']))[:, 1]\n",
    "\n",
    "# Create a DataFrame with default event and predicted probabilities\n",
    "rf_db_cal = pd.DataFrame({'def': oneypd_tree_sel['default_indicator'], 'pred': pred_orig})\n",
    "\n",
    "# 2. Fit calibration function\n",
    "# Fit a logistic regression model to calibrate the predicted probabilities\n",
    "pd_model = LogisticRegression()\n",
    "pd_model.fit(rf_db_cal[['pred']], rf_db_cal['def'])\n",
    "\n",
    "# Display summary of the logistic regression model\n",
    "print(\"Logistic Regression Model Summary:\")\n",
    "print(\"Intercept:\", pd_model.intercept_[0])\n",
    "print(\"Coefficient for pred:\", pd_model.coef_[0][0])\n"
   ]
  },
  {
   "cell_type": "code",
   "execution_count": 214,
   "id": "3496cc26",
   "metadata": {},
   "outputs": [
    {
     "name": "stdout",
     "output_type": "stream",
     "text": [
      "AUC: 0.9399250450076166\n"
     ]
    },
    {
     "data": {
      "image/png": "[encoded data removed]",
      "text/plain": [
       "<Figure size 432x504 with 1 Axes>"
      ]
     },
     "metadata": {
      "needs_background": "light"
     },
     "output_type": "display_data"
    },
    {
     "name": "stdout",
     "output_type": "stream",
     "text": [
      "KS: 0.728089599778424\n",
      "Gini Index: 0.8798500900152333\n",
      "RMSE: 0.061563869274112386\n"
     ]
    }
   ],
   "source": [
    "\n",
    "# Function to create bands based on the predicted probabilities\n",
    "def create_bands(pred_prob, num_bins=5):\n",
    "    '''\n",
    "    Function to create bands based on the predicted probabilities\n",
    "    '''\n",
    "    bins = np.linspace(0, 1, num_bins + 1)\n",
    "    return pd.cut(pred_prob, bins, labels=[f'Bin {i+1}' for i in range(num_bins)], include_lowest=True)\n",
    "\n",
    "# Predict probabilities using the random forest model\n",
    "predict_test_orig = rf_oneypd.predict_proba(\\\n",
    "                   test.drop(columns=['default_event', 'default_indicator']))[:, 1]\n",
    "\n",
    "# Calculate AUC\n",
    "auc_test = roc_auc_score(test['default_indicator'].values, predict_test_orig)\n",
    "print(\"AUC:\", auc_test)\n",
    "\n",
    "# Plot ROC curve\n",
    "fig, ax = plt.subplots(figsize=(6, 7))\n",
    "fpr, tpr, _ = roc_curve(test['default_indicator'].values, predict_test_orig)\n",
    "plt.plot(fpr, tpr)\n",
    "plt.plot([0, 1], [0, 1], linestyle='--', color='black')\n",
    "plt.xlabel('False Positive Rate')\n",
    "plt.ylabel('True Positive Rate')\n",
    "plt.title('ROC curve')\n",
    "plt.show()\n",
    "\n",
    "# KS Analysis\n",
    "ks_test = np.max(tpr - fpr)\n",
    "print(\"KS:\", ks_test)\n",
    "\n",
    "# Gini index\n",
    "gini_test = 2 * auc_test - 1\n",
    "print(\"Gini Index:\", gini_test)\n",
    "\n",
    "# Predict base on model parameters\n",
    "rf_db_cal['pd'] = pd_model.predict_proba(rf_db_cal[['pred']])[:, 1]\n",
    "\n",
    "# Create score bands\n",
    "cuts = [-np.inf, 0.2, 0.4, 0.6, 0.8, np.inf]\n",
    "labels = ['01 <=0.2', '02 <=0.4', '03 <=0.6', '04 <0.8', '05 >0.8']\n",
    "\n",
    "# Bin the 'score' variable based on the specified cuts\n",
    "rf_db_cal['band'] = pd.cut(rf_db_cal['pd'], bins=cuts, labels=labels)\n",
    "\n",
    "# Could be done manually\n",
    "#rf_db_cal['band'] = create_bands(rf_db_cal['pd'])\n",
    "\n",
    "# Compare average actual and fitted PDs\n",
    "rf_db_cal_plot = rf_db_cal.groupby('band').agg(mean_dr=('def', 'mean'), mean_pd=('pd', 'mean')).round(4).reset_index()\n",
    "\n",
    "# Compute RMSE\n",
    "rmse = np.sqrt(np.mean((rf_db_cal_plot['mean_dr'] - rf_db_cal_plot['mean_pd']) ** 2))\n",
    "print(\"RMSE:\", rmse)\n"
   ]
  },
  {
   "cell_type": "markdown",
   "id": "407f8a57",
   "metadata": {},
   "source": [
    "#### Note:\n",
    "\n",
    "In summary, the model exhibits strong performance across multiple evaluation metrics. With an AUC of 0.9399, it demonstrates high discriminatory power, effectively distinguishing between positive and negative instances. The KS statistic of 0.7281 indicates a significant difference between the true positive and false positive rates, further emphasizing the model's predictive ability. Additionally, the Gini index of 0.8799 highlights the model's effectiveness in ranking instances by their predicted probabilities. Lastly, the low RMSE value of 0.0616 signifies accurate predictions, suggesting that the model's estimates closely align with the observed outcomes. Overall, these metrics collectively indicate that the model is robust and well-performing, making it a reliable tool for predictive tasks."
   ]
  },
  {
   "cell_type": "code",
   "execution_count": 217,
   "id": "d6fee88e",
   "metadata": {},
   "outputs": [
    {
     "data": {
      "image/png": "[encoded data removed]",
      "text/plain": [
       "<Figure size 432x504 with 1 Axes>"
      ]
     },
     "metadata": {
      "needs_background": "light"
     },
     "output_type": "display_data"
    }
   ],
   "source": [
    "# Plot fitted versus actual data of probability of default\n",
    "plt.figure(figsize=(6, 7))\n",
    "plt.plot(rf_db_cal_plot['band'], rf_db_cal_plot['mean_dr'], '--', color='blue', lw=1, label='Actual PD')\n",
    "\n",
    "for band in range(len(rf_db_cal_plot)):\n",
    "    plt.hlines(rf_db_cal_plot['mean_dr'][band], band-0.5, band+0.5, color='black', lw=4)\n",
    "\n",
    "plt.plot(rf_db_cal_plot['band'], rf_db_cal_plot['mean_pd'], '-',  color='red', lw=1, label='Fitted PD')\n",
    "#plt.xticks(['01 <=0.2', '02 <=0.4', '03 <=0.6', '04 <0.8', '05 >0.8'])\n",
    "plt.title('Actual vs. Fitted Probability of Default')\n",
    "plt.xlabel('Band')\n",
    "plt.ylabel('Rate')\n",
    "plt.legend()\n",
    "plt.show()\n"
   ]
  }
 ],
 "metadata": {
  "kernelspec": {
   "display_name": "Python 3",
   "language": "python",
   "name": "python3"
  },
  "language_info": {
   "codemirror_mode": {
    "name": "ipython",
    "version": 3
   },
   "file_extension": ".py",
   "mimetype": "text/x-python",
   "name": "python",
   "nbconvert_exporter": "python",
   "pygments_lexer": "ipython3",
   "version": "3.8.8"
  }
 },
 "nbformat": 4,
 "nbformat_minor": 5
}
